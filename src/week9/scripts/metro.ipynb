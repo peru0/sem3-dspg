{
 "metadata": {
  "language_info": {
   "codemirror_mode": {
    "name": "ipython",
    "version": 3
   },
   "file_extension": ".py",
   "mimetype": "text/x-python",
   "name": "python",
   "nbconvert_exporter": "python",
   "pygments_lexer": "ipython3",
   "version": "3.8.5"
  },
  "orig_nbformat": 2,
  "kernelspec": {
   "name": "python385jvsc74a57bd0cd8d2c39cc205a87c36ebe3def0beedec0c2eac3fbdd2f877b7aa991c5302497",
   "display_name": "Python 3.8.5 64-bit"
  }
 },
 "nbformat": 4,
 "nbformat_minor": 2,
 "cells": [
  {
   "cell_type": "code",
   "execution_count": 4,
   "metadata": {},
   "outputs": [],
   "source": [
    "import pandas as pd\n",
    "import numpy as np"
   ]
  },
  {
   "cell_type": "code",
   "execution_count": 2,
   "metadata": {},
   "outputs": [],
   "source": [
    "# http://data.seoul.go.kr/dataList/OA-12034/S/1/datasetView.do;jsessionid=5C453CDEE792E4870E616A5FFBFF877E.new_portal-svr-11\n",
    "# 이용허락범위: 이용범위제한없음\n",
    "df = pd.read_excel(\"서울교통공사_역간거리.xlsx\")"
   ]
  },
  {
   "cell_type": "code",
   "execution_count": 5,
   "metadata": {},
   "outputs": [
    {
     "output_type": "execute_result",
     "data": {
      "text/plain": [
       "    호선    역명  역간거리(km)  누계(km)\n",
       "0  1호선   서울역       0.0     0.0\n",
       "1  1호선    시청       1.1     1.1\n",
       "2  1호선    종각       1.0     2.1\n",
       "3  1호선  종로3가       0.8     2.9\n",
       "4  1호선  종로5가       0.9     3.8"
      ],
      "text/html": "<div>\n<style scoped>\n    .dataframe tbody tr th:only-of-type {\n        vertical-align: middle;\n    }\n\n    .dataframe tbody tr th {\n        vertical-align: top;\n    }\n\n    .dataframe thead th {\n        text-align: right;\n    }\n</style>\n<table border=\"1\" class=\"dataframe\">\n  <thead>\n    <tr style=\"text-align: right;\">\n      <th></th>\n      <th>호선</th>\n      <th>역명</th>\n      <th>역간거리(km)</th>\n      <th>누계(km)</th>\n    </tr>\n  </thead>\n  <tbody>\n    <tr>\n      <th>0</th>\n      <td>1호선</td>\n      <td>서울역</td>\n      <td>0.0</td>\n      <td>0.0</td>\n    </tr>\n    <tr>\n      <th>1</th>\n      <td>1호선</td>\n      <td>시청</td>\n      <td>1.1</td>\n      <td>1.1</td>\n    </tr>\n    <tr>\n      <th>2</th>\n      <td>1호선</td>\n      <td>종각</td>\n      <td>1.0</td>\n      <td>2.1</td>\n    </tr>\n    <tr>\n      <th>3</th>\n      <td>1호선</td>\n      <td>종로3가</td>\n      <td>0.8</td>\n      <td>2.9</td>\n    </tr>\n    <tr>\n      <th>4</th>\n      <td>1호선</td>\n      <td>종로5가</td>\n      <td>0.9</td>\n      <td>3.8</td>\n    </tr>\n  </tbody>\n</table>\n</div>"
     },
     "metadata": {},
     "execution_count": 5
    }
   ],
   "source": [
    "df.head()"
   ]
  },
  {
   "cell_type": "code",
   "execution_count": 7,
   "metadata": {},
   "outputs": [
    {
     "output_type": "execute_result",
     "data": {
      "text/plain": [
       "                    역명\n",
       "count              281\n",
       "unique             246\n",
       "top     동대문역사문화공원(DDP)\n",
       "freq                 3"
      ],
      "text/html": "<div>\n<style scoped>\n    .dataframe tbody tr th:only-of-type {\n        vertical-align: middle;\n    }\n\n    .dataframe tbody tr th {\n        vertical-align: top;\n    }\n\n    .dataframe thead th {\n        text-align: right;\n    }\n</style>\n<table border=\"1\" class=\"dataframe\">\n  <thead>\n    <tr style=\"text-align: right;\">\n      <th></th>\n      <th>역명</th>\n    </tr>\n  </thead>\n  <tbody>\n    <tr>\n      <th>count</th>\n      <td>281</td>\n    </tr>\n    <tr>\n      <th>unique</th>\n      <td>246</td>\n    </tr>\n    <tr>\n      <th>top</th>\n      <td>동대문역사문화공원(DDP)</td>\n    </tr>\n    <tr>\n      <th>freq</th>\n      <td>3</td>\n    </tr>\n  </tbody>\n</table>\n</div>"
     },
     "metadata": {},
     "execution_count": 7
    }
   ],
   "source": [
    "stations = pd.DataFrame(df, columns=[\"역명\"])\n",
    "stations.describe()"
   ]
  },
  {
   "cell_type": "code",
   "execution_count": 11,
   "metadata": {},
   "outputs": [
    {
     "output_type": "execute_result",
     "data": {
      "text/plain": [
       "         역명\n",
       "count   246\n",
       "unique  246\n",
       "top      마곡\n",
       "freq      1"
      ],
      "text/html": "<div>\n<style scoped>\n    .dataframe tbody tr th:only-of-type {\n        vertical-align: middle;\n    }\n\n    .dataframe tbody tr th {\n        vertical-align: top;\n    }\n\n    .dataframe thead th {\n        text-align: right;\n    }\n</style>\n<table border=\"1\" class=\"dataframe\">\n  <thead>\n    <tr style=\"text-align: right;\">\n      <th></th>\n      <th>역명</th>\n    </tr>\n  </thead>\n  <tbody>\n    <tr>\n      <th>count</th>\n      <td>246</td>\n    </tr>\n    <tr>\n      <th>unique</th>\n      <td>246</td>\n    </tr>\n    <tr>\n      <th>top</th>\n      <td>마곡</td>\n    </tr>\n    <tr>\n      <th>freq</th>\n      <td>1</td>\n    </tr>\n  </tbody>\n</table>\n</div>"
     },
     "metadata": {},
     "execution_count": 11
    }
   ],
   "source": [
    "# 이건 정점으로 쓸 거니까 중복은 필요 없음\n",
    "stations = stations.drop_duplicates()\n",
    "stations.describe()"
   ]
  },
  {
   "cell_type": "code",
   "execution_count": 12,
   "metadata": {},
   "outputs": [
    {
     "output_type": "execute_result",
     "data": {
      "text/plain": [
       "     역명\n",
       "0   서울역\n",
       "1    시청\n",
       "2    종각\n",
       "3  종로3가\n",
       "4  종로5가"
      ],
      "text/html": "<div>\n<style scoped>\n    .dataframe tbody tr th:only-of-type {\n        vertical-align: middle;\n    }\n\n    .dataframe tbody tr th {\n        vertical-align: top;\n    }\n\n    .dataframe thead th {\n        text-align: right;\n    }\n</style>\n<table border=\"1\" class=\"dataframe\">\n  <thead>\n    <tr style=\"text-align: right;\">\n      <th></th>\n      <th>역명</th>\n    </tr>\n  </thead>\n  <tbody>\n    <tr>\n      <th>0</th>\n      <td>서울역</td>\n    </tr>\n    <tr>\n      <th>1</th>\n      <td>시청</td>\n    </tr>\n    <tr>\n      <th>2</th>\n      <td>종각</td>\n    </tr>\n    <tr>\n      <th>3</th>\n      <td>종로3가</td>\n    </tr>\n    <tr>\n      <th>4</th>\n      <td>종로5가</td>\n    </tr>\n  </tbody>\n</table>\n</div>"
     },
     "metadata": {},
     "execution_count": 12
    }
   ],
   "source": [
    "stations.head()"
   ]
  },
  {
   "cell_type": "code",
   "execution_count": 21,
   "metadata": {},
   "outputs": [],
   "source": [
    "# 한글 변수명을 처리하기가 귀찮으니 영어로 바꾸고 저장\n",
    "stations = stations.rename(columns={\"역명\": \"name\"})\n",
    "stations.head()\n",
    "# 저장하기는 하는데 대충 눈으로 데이터 흘겨보기는 해야 하니 pretty-print 먹인 상태로 추출\n",
    "stations.to_json(\"stations.json\", orient=\"records\", indent=2)"
   ]
  },
  {
   "cell_type": "code",
   "execution_count": null,
   "metadata": {},
   "outputs": [],
   "source": []
  }
 ]
}