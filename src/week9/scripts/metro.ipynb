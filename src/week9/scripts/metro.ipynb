{
 "metadata": {
  "language_info": {
   "codemirror_mode": {
    "name": "ipython",
    "version": 3
   },
   "file_extension": ".py",
   "mimetype": "text/x-python",
   "name": "python",
   "nbconvert_exporter": "python",
   "pygments_lexer": "ipython3",
   "version": "3.8.5"
  },
  "orig_nbformat": 2,
  "kernelspec": {
   "name": "python385jvsc74a57bd0cd8d2c39cc205a87c36ebe3def0beedec0c2eac3fbdd2f877b7aa991c5302497",
   "display_name": "Python 3.8.5 64-bit ('base': conda)"
  },
  "metadata": {
   "interpreter": {
    "hash": "cd8d2c39cc205a87c36ebe3def0beedec0c2eac3fbdd2f877b7aa991c5302497"
   }
  }
 },
 "nbformat": 4,
 "nbformat_minor": 2,
 "cells": [
  {
   "cell_type": "code",
   "execution_count": 26,
   "metadata": {},
   "outputs": [],
   "source": [
    "import pandas as pd\n",
    "import numpy as np"
   ]
  },
  {
   "cell_type": "code",
   "execution_count": 27,
   "metadata": {},
   "outputs": [],
   "source": [
    "# http://data.seoul.go.kr/dataList/OA-12034/S/1/datasetView.do;jsessionid=5C453CDEE792E4870E616A5FFBFF877E.new_portal-svr-11\n",
    "# 이용허락범위: 이용범위제한없음\n",
    "df = pd.read_excel(\"서울교통공사_역간거리.xlsx\")"
   ]
  },
  {
   "cell_type": "code",
   "execution_count": 28,
   "metadata": {},
   "outputs": [
    {
     "output_type": "execute_result",
     "data": {
      "text/plain": [
       "    호선    역명  역간거리(km)  누계(km)\n",
       "0  1호선   서울역       0.0     0.0\n",
       "1  1호선    시청       1.1     1.1\n",
       "2  1호선    종각       1.0     2.1\n",
       "3  1호선  종로3가       0.8     2.9\n",
       "4  1호선  종로5가       0.9     3.8"
      ],
      "text/html": "<div>\n<style scoped>\n    .dataframe tbody tr th:only-of-type {\n        vertical-align: middle;\n    }\n\n    .dataframe tbody tr th {\n        vertical-align: top;\n    }\n\n    .dataframe thead th {\n        text-align: right;\n    }\n</style>\n<table border=\"1\" class=\"dataframe\">\n  <thead>\n    <tr style=\"text-align: right;\">\n      <th></th>\n      <th>호선</th>\n      <th>역명</th>\n      <th>역간거리(km)</th>\n      <th>누계(km)</th>\n    </tr>\n  </thead>\n  <tbody>\n    <tr>\n      <th>0</th>\n      <td>1호선</td>\n      <td>서울역</td>\n      <td>0.0</td>\n      <td>0.0</td>\n    </tr>\n    <tr>\n      <th>1</th>\n      <td>1호선</td>\n      <td>시청</td>\n      <td>1.1</td>\n      <td>1.1</td>\n    </tr>\n    <tr>\n      <th>2</th>\n      <td>1호선</td>\n      <td>종각</td>\n      <td>1.0</td>\n      <td>2.1</td>\n    </tr>\n    <tr>\n      <th>3</th>\n      <td>1호선</td>\n      <td>종로3가</td>\n      <td>0.8</td>\n      <td>2.9</td>\n    </tr>\n    <tr>\n      <th>4</th>\n      <td>1호선</td>\n      <td>종로5가</td>\n      <td>0.9</td>\n      <td>3.8</td>\n    </tr>\n  </tbody>\n</table>\n</div>"
     },
     "metadata": {},
     "execution_count": 28
    }
   ],
   "source": [
    "df.head()"
   ]
  },
  {
   "cell_type": "code",
   "execution_count": 30,
   "metadata": {},
   "outputs": [
    {
     "output_type": "stream",
     "name": "stdout",
     "text": [
      "1호선 != 2호선\n2호선 != 3호선\n3호선 != 4호선\n4호선 != 5호선\n5호선 != 6호선\n6호선 != 7호선\n7호선 != 8호선\n"
     ]
    }
   ],
   "source": [
    "stations = dict()\n",
    "\n",
    "def add_station(dict, src, dst, weight):\n",
    "    if src not in stations:\n",
    "        stations[src] = {\n",
    "            \"name\": src,\n",
    "            \"adjacents\": list()\n",
    "        }\n",
    "    \n",
    "    stations[src][\"adjacents\"].append({\n",
    "        \"source\": src,\n",
    "        \"destination\": dst,\n",
    "        \"distance\": weight\n",
    "    })\n",
    "\n",
    "for i in range(df.count()[0] - 1):\n",
    "    left_line = df[\"호선\"][i]\n",
    "    right_line = df[\"호선\"][i + 1]\n",
    "\n",
    "    left_name = df[\"역명\"][i]\n",
    "    right_name = df[\"역명\"][i + 1]\n",
    "\n",
    "    weight = df[\"역간거리(km)\"][i + 1]\n",
    "    \n",
    "    if left_line != right_line:\n",
    "        print(f\"{left_line} != {right_line}\")\n",
    "        continue\n",
    " \n",
    "    add_station(stations, left_name, right_name, weight)\n",
    "    add_station(stations, right_name, left_name, weight)\n",
    "    \n"
   ]
  },
  {
   "cell_type": "code",
   "execution_count": 31,
   "metadata": {
    "tags": []
   },
   "outputs": [],
   "source": [
    "import json\n",
    "\n",
    "with open(\"stations.json\", \"w\") as fs:\n",
    "    json.dump(stations, fs, indent=2)"
   ]
  }
 ]
}