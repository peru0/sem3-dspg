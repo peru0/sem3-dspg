{
 "metadata": {
  "language_info": {
   "codemirror_mode": {
    "name": "ipython",
    "version": 3
   },
   "file_extension": ".py",
   "mimetype": "text/x-python",
   "name": "python",
   "nbconvert_exporter": "python",
   "pygments_lexer": "ipython3",
   "version": "3.8.5"
  },
  "orig_nbformat": 2,
  "kernelspec": {
   "name": "python385jvsc74a57bd04d30b7bb825ce5cc83e289843b0e66c6dca3e79c61f830b514eb468716c3c686",
   "display_name": "Python 3.8.5 64-bit"
  }
 },
 "nbformat": 4,
 "nbformat_minor": 2,
 "cells": [
  {
   "cell_type": "code",
   "execution_count": 2,
   "metadata": {},
   "outputs": [],
   "source": [
    "import pandas as pd\n",
    "import numpy as np"
   ]
  },
  {
   "cell_type": "code",
   "execution_count": 3,
   "metadata": {},
   "outputs": [],
   "source": [
    "# http://data.seoul.go.kr/dataList/OA-12034/S/1/datasetView.do;jsessionid=5C453CDEE792E4870E616A5FFBFF877E.new_portal-svr-11\n",
    "# 이용허락범위: 이용범위제한없음\n",
    "df = pd.read_excel(\"서울교통공사_역간거리.xlsx\")"
   ]
  },
  {
   "cell_type": "code",
   "execution_count": 4,
   "metadata": {},
   "outputs": [
    {
     "output_type": "execute_result",
     "data": {
      "text/plain": [
       "    호선    역명  역간거리(km)  누계(km)\n",
       "0  1호선   서울역       0.0     0.0\n",
       "1  1호선    시청       1.1     1.1\n",
       "2  1호선    종각       1.0     2.1\n",
       "3  1호선  종로3가       0.8     2.9\n",
       "4  1호선  종로5가       0.9     3.8"
      ],
      "text/html": "<div>\n<style scoped>\n    .dataframe tbody tr th:only-of-type {\n        vertical-align: middle;\n    }\n\n    .dataframe tbody tr th {\n        vertical-align: top;\n    }\n\n    .dataframe thead th {\n        text-align: right;\n    }\n</style>\n<table border=\"1\" class=\"dataframe\">\n  <thead>\n    <tr style=\"text-align: right;\">\n      <th></th>\n      <th>호선</th>\n      <th>역명</th>\n      <th>역간거리(km)</th>\n      <th>누계(km)</th>\n    </tr>\n  </thead>\n  <tbody>\n    <tr>\n      <th>0</th>\n      <td>1호선</td>\n      <td>서울역</td>\n      <td>0.0</td>\n      <td>0.0</td>\n    </tr>\n    <tr>\n      <th>1</th>\n      <td>1호선</td>\n      <td>시청</td>\n      <td>1.1</td>\n      <td>1.1</td>\n    </tr>\n    <tr>\n      <th>2</th>\n      <td>1호선</td>\n      <td>종각</td>\n      <td>1.0</td>\n      <td>2.1</td>\n    </tr>\n    <tr>\n      <th>3</th>\n      <td>1호선</td>\n      <td>종로3가</td>\n      <td>0.8</td>\n      <td>2.9</td>\n    </tr>\n    <tr>\n      <th>4</th>\n      <td>1호선</td>\n      <td>종로5가</td>\n      <td>0.9</td>\n      <td>3.8</td>\n    </tr>\n  </tbody>\n</table>\n</div>"
     },
     "metadata": {},
     "execution_count": 4
    }
   ],
   "source": [
    "df.head()"
   ]
  },
  {
   "cell_type": "code",
   "execution_count": 5,
   "metadata": {},
   "outputs": [
    {
     "output_type": "execute_result",
     "data": {
      "text/plain": [
       "         역명\n",
       "count   281\n",
       "unique  246\n",
       "top      시청\n",
       "freq      3"
      ],
      "text/html": "<div>\n<style scoped>\n    .dataframe tbody tr th:only-of-type {\n        vertical-align: middle;\n    }\n\n    .dataframe tbody tr th {\n        vertical-align: top;\n    }\n\n    .dataframe thead th {\n        text-align: right;\n    }\n</style>\n<table border=\"1\" class=\"dataframe\">\n  <thead>\n    <tr style=\"text-align: right;\">\n      <th></th>\n      <th>역명</th>\n    </tr>\n  </thead>\n  <tbody>\n    <tr>\n      <th>count</th>\n      <td>281</td>\n    </tr>\n    <tr>\n      <th>unique</th>\n      <td>246</td>\n    </tr>\n    <tr>\n      <th>top</th>\n      <td>시청</td>\n    </tr>\n    <tr>\n      <th>freq</th>\n      <td>3</td>\n    </tr>\n  </tbody>\n</table>\n</div>"
     },
     "metadata": {},
     "execution_count": 5
    }
   ],
   "source": [
    "stations = pd.DataFrame(df, columns=[\"역명\"])\n",
    "stations.describe()"
   ]
  },
  {
   "cell_type": "code",
   "execution_count": 6,
   "metadata": {},
   "outputs": [
    {
     "output_type": "execute_result",
     "data": {
      "text/plain": [
       "         역명\n",
       "count   246\n",
       "unique  246\n",
       "top     동대문\n",
       "freq      1"
      ],
      "text/html": "<div>\n<style scoped>\n    .dataframe tbody tr th:only-of-type {\n        vertical-align: middle;\n    }\n\n    .dataframe tbody tr th {\n        vertical-align: top;\n    }\n\n    .dataframe thead th {\n        text-align: right;\n    }\n</style>\n<table border=\"1\" class=\"dataframe\">\n  <thead>\n    <tr style=\"text-align: right;\">\n      <th></th>\n      <th>역명</th>\n    </tr>\n  </thead>\n  <tbody>\n    <tr>\n      <th>count</th>\n      <td>246</td>\n    </tr>\n    <tr>\n      <th>unique</th>\n      <td>246</td>\n    </tr>\n    <tr>\n      <th>top</th>\n      <td>동대문</td>\n    </tr>\n    <tr>\n      <th>freq</th>\n      <td>1</td>\n    </tr>\n  </tbody>\n</table>\n</div>"
     },
     "metadata": {},
     "execution_count": 6
    }
   ],
   "source": [
    "# 이건 정점으로 쓸 거니까 중복은 필요 없음\n",
    "stations = stations.drop_duplicates()\n",
    "stations.describe()"
   ]
  },
  {
   "cell_type": "code",
   "execution_count": 7,
   "metadata": {},
   "outputs": [
    {
     "output_type": "execute_result",
     "data": {
      "text/plain": [
       "     역명\n",
       "0   서울역\n",
       "1    시청\n",
       "2    종각\n",
       "3  종로3가\n",
       "4  종로5가"
      ],
      "text/html": "<div>\n<style scoped>\n    .dataframe tbody tr th:only-of-type {\n        vertical-align: middle;\n    }\n\n    .dataframe tbody tr th {\n        vertical-align: top;\n    }\n\n    .dataframe thead th {\n        text-align: right;\n    }\n</style>\n<table border=\"1\" class=\"dataframe\">\n  <thead>\n    <tr style=\"text-align: right;\">\n      <th></th>\n      <th>역명</th>\n    </tr>\n  </thead>\n  <tbody>\n    <tr>\n      <th>0</th>\n      <td>서울역</td>\n    </tr>\n    <tr>\n      <th>1</th>\n      <td>시청</td>\n    </tr>\n    <tr>\n      <th>2</th>\n      <td>종각</td>\n    </tr>\n    <tr>\n      <th>3</th>\n      <td>종로3가</td>\n    </tr>\n    <tr>\n      <th>4</th>\n      <td>종로5가</td>\n    </tr>\n  </tbody>\n</table>\n</div>"
     },
     "metadata": {},
     "execution_count": 7
    }
   ],
   "source": [
    "stations.head()"
   ]
  },
  {
   "cell_type": "code",
   "execution_count": 8,
   "metadata": {},
   "outputs": [],
   "source": [
    "# 한글 변수명을 처리하기가 귀찮으니 영어로 바꾸고 저장\n",
    "stations = stations.rename(columns={\"역명\": \"name\"})\n",
    "stations.head()\n",
    "# 저장하기는 하는데 대충 눈으로 데이터 흘겨보기는 해야 하니 pretty-print 먹인 상태로 추출\n",
    "stations.to_json(\"stations.json\", orient=\"records\", indent=2)"
   ]
  },
  {
   "cell_type": "code",
   "execution_count": 23,
   "metadata": {},
   "outputs": [
    {
     "output_type": "stream",
     "name": "stdout",
     "text": [
      "1호선 != 2호선\n2호선 != 3호선\n3호선 != 4호선\n4호선 != 5호선\n5호선 != 6호선\n6호선 != 7호선\n7호선 != 8호선\n"
     ]
    }
   ],
   "source": [
    "source = list()\n",
    "dest = list()\n",
    "weights = list()\n",
    "\n",
    "for i in range(df.count()[0] - 1):\n",
    "    left_line = df[\"호선\"][i]\n",
    "    right_line = df[\"호선\"][i + 1]\n",
    "\n",
    "    left_name = df[\"역명\"][i]\n",
    "    right_name = df[\"역명\"][i + 1]\n",
    "\n",
    "    weight = df[\"역간거리(km)\"][i + 1]\n",
    "    \n",
    "    if left_line != right_line:\n",
    "        print(f\"{left_line} != {right_line}\")\n",
    "        continue\n",
    " \n",
    "    source.append(left_name)\n",
    "    dest.append(right_name)\n",
    "    weights.append(weight)\n",
    "\n",
    "edges = pd.DataFrame()\n",
    "edges[\"source\"] = source\n",
    "edges[\"destination\"] = dest\n",
    "edges[\"distance\"] = weights"
   ]
  },
  {
   "cell_type": "code",
   "execution_count": 24,
   "metadata": {},
   "outputs": [
    {
     "output_type": "execute_result",
     "data": {
      "text/plain": [
       "  source destination  distance\n",
       "0    서울역          시청       1.1\n",
       "1     시청          종각       1.0\n",
       "2     종각        종로3가       0.8\n",
       "3   종로3가        종로5가       0.9\n",
       "4   종로5가         동대문       0.8"
      ],
      "text/html": "<div>\n<style scoped>\n    .dataframe tbody tr th:only-of-type {\n        vertical-align: middle;\n    }\n\n    .dataframe tbody tr th {\n        vertical-align: top;\n    }\n\n    .dataframe thead th {\n        text-align: right;\n    }\n</style>\n<table border=\"1\" class=\"dataframe\">\n  <thead>\n    <tr style=\"text-align: right;\">\n      <th></th>\n      <th>source</th>\n      <th>destination</th>\n      <th>distance</th>\n    </tr>\n  </thead>\n  <tbody>\n    <tr>\n      <th>0</th>\n      <td>서울역</td>\n      <td>시청</td>\n      <td>1.1</td>\n    </tr>\n    <tr>\n      <th>1</th>\n      <td>시청</td>\n      <td>종각</td>\n      <td>1.0</td>\n    </tr>\n    <tr>\n      <th>2</th>\n      <td>종각</td>\n      <td>종로3가</td>\n      <td>0.8</td>\n    </tr>\n    <tr>\n      <th>3</th>\n      <td>종로3가</td>\n      <td>종로5가</td>\n      <td>0.9</td>\n    </tr>\n    <tr>\n      <th>4</th>\n      <td>종로5가</td>\n      <td>동대문</td>\n      <td>0.8</td>\n    </tr>\n  </tbody>\n</table>\n</div>"
     },
     "metadata": {},
     "execution_count": 24
    }
   ],
   "source": [
    "edges.head()"
   ]
  },
  {
   "cell_type": "code",
   "execution_count": 25,
   "metadata": {},
   "outputs": [],
   "source": [
    "edges.to_json(\"edges.json\", orient=\"records\", indent=2)"
   ]
  },
  {
   "cell_type": "code",
   "execution_count": null,
   "metadata": {},
   "outputs": [],
   "source": []
  }
 ]
}