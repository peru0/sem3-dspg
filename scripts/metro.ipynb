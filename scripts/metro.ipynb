{
 "metadata": {
  "language_info": {
   "codemirror_mode": {
    "name": "ipython",
    "version": 3
   },
   "file_extension": ".py",
   "mimetype": "text/x-python",
   "name": "python",
   "nbconvert_exporter": "python",
   "pygments_lexer": "ipython3",
   "version": "3.8.5"
  },
  "orig_nbformat": 2,
  "kernelspec": {
   "name": "python385jvsc74a57bd0cd8d2c39cc205a87c36ebe3def0beedec0c2eac3fbdd2f877b7aa991c5302497",
   "display_name": "Python 3.8.5 64-bit"
  },
  "metadata": {
   "interpreter": {
    "hash": "cd8d2c39cc205a87c36ebe3def0beedec0c2eac3fbdd2f877b7aa991c5302497"
   }
  }
 },
 "nbformat": 4,
 "nbformat_minor": 2,
 "cells": [
  {
   "cell_type": "code",
   "execution_count": 4,
   "metadata": {},
   "outputs": [],
   "source": [
    "import pandas as pd\n",
    "import numpy as np"
   ]
  },
  {
   "cell_type": "code",
   "execution_count": 5,
   "metadata": {},
   "outputs": [],
   "source": [
    "# http://data.seoul.go.kr/dataList/OA-12034/S/1/datasetView.do;jsessionid=5C453CDEE792E4870E616A5FFBFF877E.new_portal-svr-11\n",
    "# 이용허락범위: 이용범위제한없음\n",
    "df = pd.read_excel(\"서울교통공사_역간거리.xlsx\")"
   ]
  },
  {
   "cell_type": "code",
   "execution_count": 6,
   "metadata": {},
   "outputs": [
    {
     "output_type": "execute_result",
     "data": {
      "text/plain": [
       "    호선    역명  역간거리(km)  누계(km)\n",
       "0  1호선   서울역       0.0     0.0\n",
       "1  1호선    시청       1.1     1.1\n",
       "2  1호선    종각       1.0     2.1\n",
       "3  1호선  종로3가       0.8     2.9\n",
       "4  1호선  종로5가       0.9     3.8"
      ],
      "text/html": "<div>\n<style scoped>\n    .dataframe tbody tr th:only-of-type {\n        vertical-align: middle;\n    }\n\n    .dataframe tbody tr th {\n        vertical-align: top;\n    }\n\n    .dataframe thead th {\n        text-align: right;\n    }\n</style>\n<table border=\"1\" class=\"dataframe\">\n  <thead>\n    <tr style=\"text-align: right;\">\n      <th></th>\n      <th>호선</th>\n      <th>역명</th>\n      <th>역간거리(km)</th>\n      <th>누계(km)</th>\n    </tr>\n  </thead>\n  <tbody>\n    <tr>\n      <th>0</th>\n      <td>1호선</td>\n      <td>서울역</td>\n      <td>0.0</td>\n      <td>0.0</td>\n    </tr>\n    <tr>\n      <th>1</th>\n      <td>1호선</td>\n      <td>시청</td>\n      <td>1.1</td>\n      <td>1.1</td>\n    </tr>\n    <tr>\n      <th>2</th>\n      <td>1호선</td>\n      <td>종각</td>\n      <td>1.0</td>\n      <td>2.1</td>\n    </tr>\n    <tr>\n      <th>3</th>\n      <td>1호선</td>\n      <td>종로3가</td>\n      <td>0.8</td>\n      <td>2.9</td>\n    </tr>\n    <tr>\n      <th>4</th>\n      <td>1호선</td>\n      <td>종로5가</td>\n      <td>0.9</td>\n      <td>3.8</td>\n    </tr>\n  </tbody>\n</table>\n</div>"
     },
     "metadata": {},
     "execution_count": 6
    }
   ],
   "source": [
    "df.head()"
   ]
  },
  {
   "cell_type": "code",
   "execution_count": 15,
   "metadata": {},
   "outputs": [],
   "source": [
    "# output으로 쓸 내용 준비\n",
    "output = {\n",
    "    \"stations\": [],\n",
    "    \"edges\": [],\n",
    "}"
   ]
  },
  {
   "cell_type": "code",
   "execution_count": 16,
   "metadata": {},
   "outputs": [],
   "source": [
    "# 역 이름 정점으로 정리\n",
    "output[\"stations\"] = df[\"역명\"].drop_duplicates().to_list()"
   ]
  },
  {
   "cell_type": "code",
   "execution_count": 17,
   "metadata": {},
   "outputs": [],
   "source": [
    "def add_station(output, src_name, dst_name, distance):\n",
    "    edge = {\n",
    "        \"source\": src_name,\n",
    "        \"destination\": dst_name,\n",
    "        \"distance\": distance,\n",
    "    }\n",
    "\n",
    "    output[\"edges\"].append(edge)"
   ]
  },
  {
   "cell_type": "code",
   "execution_count": 19,
   "metadata": {},
   "outputs": [],
   "source": [
    "# 역간 연결\n",
    "# 다만 현실과는 다른게 이게 편도인지 급행인지 일반 열차인지 아닌지\n",
    "# 자주 타는 게 아니라 내가 구분할 수가 없으니 일단 모든 역에서 왕복 가능하다고 생각하자...\n",
    "for i in range(df.count()[0] - 1):\n",
    "    src_line = df[\"호선\"][i]\n",
    "    dst_line = df[\"호선\"][i + 1]\n",
    "\n",
    "    src_name = df[\"역명\"][i]\n",
    "    dst_name = df[\"역명\"][i + 1]\n",
    "\n",
    "    distance = df[\"역간거리(km)\"][i + 1]\n",
    "    \n",
    "    if src_line != dst_line:\n",
    "        continue\n",
    " \n",
    "    add_station(output, src_name, dst_name, distance)\n",
    "    add_station(output, dst_name, src_name, distance)"
   ]
  },
  {
   "cell_type": "code",
   "execution_count": 21,
   "metadata": {
    "tags": []
   },
   "outputs": [],
   "source": [
    "import json\n",
    "\n",
    "with open(\"metro.json\", \"w\") as fs:\n",
    "    json.dump(output, fs, indent=2)"
   ]
  },
  {
   "cell_type": "code",
   "execution_count": null,
   "metadata": {},
   "outputs": [],
   "source": []
  }
 ]
}